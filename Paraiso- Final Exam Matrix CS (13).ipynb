{
 "cells": [
  {
   "cell_type": "markdown",
   "id": "d991f5ef-3c20-4b40-8bf6-b6f62924dc1a",
   "metadata": {},
   "source": [
    "# Final Exam Matrix CS\n"
   ]
  },
  {
   "cell_type": "code",
   "execution_count": 172,
   "id": "4f4455f9-aca2-41d9-a151-822cddb26d53",
   "metadata": {},
   "outputs": [
    {
     "name": "stdout",
     "output_type": "stream",
     "text": [
      "Fixed 3x4 Matrix:\n",
      "[[12  6  5  6]\n",
      " [10  2 12 10]\n",
      " [ 7  9  2  2]]\n",
      "\n",
      "Coefficient Matrix A (first 3 columns):\n",
      "[[12  6  5]\n",
      " [10  2 12]\n",
      " [ 7  9  2]]\n",
      "\n",
      "Right-hand-side Vector b (last column):\n",
      "[ 6 10  2]\n"
     ]
    }
   ],
   "source": [
    "import numpy as np\n",
    "\n",
    "# Fixed 3x4 matrix\n",
    "matrix = np.array([\n",
    "    [12, 6, 5, 6],\n",
    "    [10, 2, 12, 10],\n",
    "    [7, 9, 2, 2]\n",
    "])\n",
    "\n",
    "# Extract the coefficient matrix A and the right-hand-side vector b\n",
    "A = matrix[:, :-1]  # First 3 columns\n",
    "b = matrix[:, -1]   # Last column\n",
    "\n",
    "# Display the full matrix, A, and b\n",
    "print(\"Fixed 3x4 Matrix:\")\n",
    "print(matrix)\n",
    "\n",
    "print(\"\\nCoefficient Matrix A (first 3 columns):\")\n",
    "print(A)\n",
    "\n",
    "print(\"\\nRight-hand-side Vector b (last column):\")\n",
    "print(b)"
   ]
  },
  {
   "cell_type": "markdown",
   "id": "512b662d-8b82-4d55-b739-054704294ce7",
   "metadata": {},
   "source": [
    "# Python Code to Verify Solutions"
   ]
  },
  {
   "cell_type": "code",
   "execution_count": 174,
   "id": "09b674bf-4451-482b-983a-d83ca829a4ef",
   "metadata": {},
   "outputs": [
    {
     "name": "stdout",
     "output_type": "stream",
     "text": [
      "\n",
      "Solution using Matrix Inverse Method:\n",
      "[ 0.35123967 -0.17768595  0.57024793]\n",
      "\n",
      "Solution using Gaussian Elimination (NumPy):\n",
      "[ 0.35123967 -0.17768595  0.57024793]\n",
      "\n",
      "Verification (Ax = b):\n",
      "[ 6. 10.  2.]\n"
     ]
    }
   ],
   "source": [
    "# Solve using Matrix Inverse Method\n",
    "try:\n",
    "    A_inv = np.linalg.inv(A)  # Compute A^-1\n",
    "    x_manual = np.dot(A_inv, b)  # x = A^-1 * b\n",
    "    print(\"\\nSolution using Matrix Inverse Method:\")\n",
    "    print(x_manual)\n",
    "except np.linalg.LinAlgError:\n",
    "    print(\"\\nMatrix A is singular and cannot be inverted.\")\n",
    "\n",
    "# Solve using Gaussian Elimination\n",
    "x_gaussian = np.linalg.solve(A, b)  # Direct Gaussian elimination\n",
    "print(\"\\nSolution using Gaussian Elimination (NumPy):\")\n",
    "print(x_gaussian)\n",
    "\n",
    "# Verify the solution\n",
    "b_check = np.dot(A, x_gaussian)  # Recompute b using A and the computed x\n",
    "print(\"\\nVerification (Ax = b):\")\n",
    "print(b_check)"
   ]
  }
 ],
 "metadata": {
  "kernelspec": {
   "display_name": "Python 3 (ipykernel)",
   "language": "python",
   "name": "python3"
  },
  "language_info": {
   "codemirror_mode": {
    "name": "ipython",
    "version": 3
   },
   "file_extension": ".py",
   "mimetype": "text/x-python",
   "name": "python",
   "nbconvert_exporter": "python",
   "pygments_lexer": "ipython3",
   "version": "3.12.7"
  }
 },
 "nbformat": 4,
 "nbformat_minor": 5
}
